{
 "cells": [
  {
   "cell_type": "markdown",
   "id": "47c83f0f-675a-4e66-ad10-5a28455e7f5a",
   "metadata": {},
   "source": [
    "## Import Library"
   ]
  },
  {
   "cell_type": "code",
   "execution_count": 53,
   "id": "a4403822-18f2-402c-96ec-489f2f4504d5",
   "metadata": {},
   "outputs": [],
   "source": [
    "import numpy as np\n",
    "import pandas as pd\n",
    "from sklearn.model_selection import train_test_split\n",
    "from sklearn.preprocessing import StandardScaler\n",
    "from sklearn.impute import SimpleImputer\n",
    "from sklearn.metrics import mean_squared_error, r2_score\n",
    "import tensorflow as tf\n",
    "from tensorflow.keras.models import Sequential\n",
    "from tensorflow.keras.layers import Dense, Conv1D, Flatten, LSTM\n",
    "from sklearn.ensemble import AdaBoostRegressor"
   ]
  },
  {
   "cell_type": "markdown",
   "id": "42a15377-25e7-434a-969a-ee34ce51bd37",
   "metadata": {},
   "source": [
    "## Loading and Cleaning Data"
   ]
  },
  {
   "cell_type": "code",
   "execution_count": 54,
   "id": "4ccd45b9-db5b-4163-83bc-b038502f6974",
   "metadata": {},
   "outputs": [],
   "source": [
    "file_path = 'Energy_Mgmt.xlsx'\n",
    "df = pd.read_excel(file_path)"
   ]
  },
  {
   "cell_type": "code",
   "execution_count": 55,
   "id": "a53bb684-1392-4580-b1af-d3fa8b09879c",
   "metadata": {},
   "outputs": [
    {
     "data": {
      "text/plain": [
       "(8487, 107)"
      ]
     },
     "execution_count": 55,
     "metadata": {},
     "output_type": "execute_result"
    }
   ],
   "source": [
    "df.shape"
   ]
  },
  {
   "cell_type": "code",
   "execution_count": 56,
   "id": "673f77fa-d007-43dc-9464-747116f631f1",
   "metadata": {},
   "outputs": [
    {
     "data": {
      "text/html": [
       "<div>\n",
       "<style scoped>\n",
       "    .dataframe tbody tr th:only-of-type {\n",
       "        vertical-align: middle;\n",
       "    }\n",
       "\n",
       "    .dataframe tbody tr th {\n",
       "        vertical-align: top;\n",
       "    }\n",
       "\n",
       "    .dataframe thead th {\n",
       "        text-align: right;\n",
       "    }\n",
       "</style>\n",
       "<table border=\"1\" class=\"dataframe\">\n",
       "  <thead>\n",
       "    <tr style=\"text-align: right;\">\n",
       "      <th></th>\n",
       "      <th>Unnamed: 0</th>\n",
       "      <th>Unnamed: 1</th>\n",
       "      <th>Unnamed: 2</th>\n",
       "      <th>A</th>\n",
       "      <th>A.1</th>\n",
       "      <th>A.2</th>\n",
       "      <th>A.3</th>\n",
       "      <th>V</th>\n",
       "      <th>V.1</th>\n",
       "      <th>V.2</th>\n",
       "      <th>...</th>\n",
       "      <th>V.18</th>\n",
       "      <th>V.19</th>\n",
       "      <th>V.20</th>\n",
       "      <th>V.21</th>\n",
       "      <th>V.22</th>\n",
       "      <th>V.23</th>\n",
       "      <th>V.24</th>\n",
       "      <th>V.25</th>\n",
       "      <th>V.26</th>\n",
       "      <th>Unnamed: 106</th>\n",
       "    </tr>\n",
       "  </thead>\n",
       "  <tbody>\n",
       "    <tr>\n",
       "      <th>count</th>\n",
       "      <td>8487</td>\n",
       "      <td>8487</td>\n",
       "      <td>8487</td>\n",
       "      <td>8487</td>\n",
       "      <td>8487</td>\n",
       "      <td>8487</td>\n",
       "      <td>8487</td>\n",
       "      <td>8487</td>\n",
       "      <td>8487</td>\n",
       "      <td>8487</td>\n",
       "      <td>...</td>\n",
       "      <td>8487</td>\n",
       "      <td>8487</td>\n",
       "      <td>8487</td>\n",
       "      <td>8487</td>\n",
       "      <td>8487</td>\n",
       "      <td>8487</td>\n",
       "      <td>8487</td>\n",
       "      <td>8487</td>\n",
       "      <td>8487</td>\n",
       "      <td>8487</td>\n",
       "    </tr>\n",
       "    <tr>\n",
       "      <th>unique</th>\n",
       "      <td>8487</td>\n",
       "      <td>8487</td>\n",
       "      <td>97</td>\n",
       "      <td>95</td>\n",
       "      <td>100</td>\n",
       "      <td>111</td>\n",
       "      <td>47</td>\n",
       "      <td>21</td>\n",
       "      <td>21</td>\n",
       "      <td>21</td>\n",
       "      <td>...</td>\n",
       "      <td>2</td>\n",
       "      <td>2</td>\n",
       "      <td>2</td>\n",
       "      <td>2</td>\n",
       "      <td>2</td>\n",
       "      <td>2</td>\n",
       "      <td>2</td>\n",
       "      <td>2</td>\n",
       "      <td>2</td>\n",
       "      <td>3</td>\n",
       "    </tr>\n",
       "    <tr>\n",
       "      <th>top</th>\n",
       "      <td>UTC</td>\n",
       "      <td>UTCTimeZone</td>\n",
       "      <td>12:00</td>\n",
       "      <td>57</td>\n",
       "      <td>48</td>\n",
       "      <td>46</td>\n",
       "      <td>0</td>\n",
       "      <td>396</td>\n",
       "      <td>396</td>\n",
       "      <td>396</td>\n",
       "      <td>...</td>\n",
       "      <td>0</td>\n",
       "      <td>0</td>\n",
       "      <td>0</td>\n",
       "      <td>0</td>\n",
       "      <td>0</td>\n",
       "      <td>0</td>\n",
       "      <td>0</td>\n",
       "      <td>0</td>\n",
       "      <td>0</td>\n",
       "      <td>High</td>\n",
       "    </tr>\n",
       "    <tr>\n",
       "      <th>freq</th>\n",
       "      <td>1</td>\n",
       "      <td>1</td>\n",
       "      <td>89</td>\n",
       "      <td>766</td>\n",
       "      <td>834</td>\n",
       "      <td>729</td>\n",
       "      <td>8088</td>\n",
       "      <td>1189</td>\n",
       "      <td>1259</td>\n",
       "      <td>1161</td>\n",
       "      <td>...</td>\n",
       "      <td>8486</td>\n",
       "      <td>8486</td>\n",
       "      <td>8486</td>\n",
       "      <td>8486</td>\n",
       "      <td>8486</td>\n",
       "      <td>8486</td>\n",
       "      <td>8486</td>\n",
       "      <td>8486</td>\n",
       "      <td>8486</td>\n",
       "      <td>8485</td>\n",
       "    </tr>\n",
       "  </tbody>\n",
       "</table>\n",
       "<p>4 rows × 107 columns</p>\n",
       "</div>"
      ],
      "text/plain": [
       "       Unnamed: 0    Unnamed: 1 Unnamed: 2     A   A.1   A.2   A.3     V  \\\n",
       "count        8487          8487       8487  8487  8487  8487  8487  8487   \n",
       "unique       8487          8487         97    95   100   111    47    21   \n",
       "top          UTC   UTCTimeZone       12:00    57    48    46     0   396   \n",
       "freq            1             1         89   766   834   729  8088  1189   \n",
       "\n",
       "         V.1   V.2  ...  V.18  V.19  V.20  V.21  V.22  V.23  V.24  V.25  V.26  \\\n",
       "count   8487  8487  ...  8487  8487  8487  8487  8487  8487  8487  8487  8487   \n",
       "unique    21    21  ...     2     2     2     2     2     2     2     2     2   \n",
       "top      396   396  ...     0     0     0     0     0     0     0     0     0   \n",
       "freq    1259  1161  ...  8486  8486  8486  8486  8486  8486  8486  8486  8486   \n",
       "\n",
       "        Unnamed: 106  \n",
       "count           8487  \n",
       "unique             3  \n",
       "top             High  \n",
       "freq            8485  \n",
       "\n",
       "[4 rows x 107 columns]"
      ]
     },
     "execution_count": 56,
     "metadata": {},
     "output_type": "execute_result"
    }
   ],
   "source": [
    "df.describe()"
   ]
  },
  {
   "cell_type": "code",
   "execution_count": 57,
   "id": "609d2b9b-d621-4f80-a5ef-8ae320c42a0b",
   "metadata": {},
   "outputs": [
    {
     "data": {
      "text/html": [
       "<div>\n",
       "<style scoped>\n",
       "    .dataframe tbody tr th:only-of-type {\n",
       "        vertical-align: middle;\n",
       "    }\n",
       "\n",
       "    .dataframe tbody tr th {\n",
       "        vertical-align: top;\n",
       "    }\n",
       "\n",
       "    .dataframe thead th {\n",
       "        text-align: right;\n",
       "    }\n",
       "</style>\n",
       "<table border=\"1\" class=\"dataframe\">\n",
       "  <thead>\n",
       "    <tr style=\"text-align: right;\">\n",
       "      <th></th>\n",
       "      <th>Unnamed: 0</th>\n",
       "      <th>Unnamed: 1</th>\n",
       "      <th>Unnamed: 2</th>\n",
       "      <th>A</th>\n",
       "      <th>A.1</th>\n",
       "      <th>A.2</th>\n",
       "      <th>A.3</th>\n",
       "      <th>V</th>\n",
       "      <th>V.1</th>\n",
       "      <th>V.2</th>\n",
       "      <th>...</th>\n",
       "      <th>V.18</th>\n",
       "      <th>V.19</th>\n",
       "      <th>V.20</th>\n",
       "      <th>V.21</th>\n",
       "      <th>V.22</th>\n",
       "      <th>V.23</th>\n",
       "      <th>V.24</th>\n",
       "      <th>V.25</th>\n",
       "      <th>V.26</th>\n",
       "      <th>Unnamed: 106</th>\n",
       "    </tr>\n",
       "  </thead>\n",
       "  <tbody>\n",
       "    <tr>\n",
       "      <th>0</th>\n",
       "      <td>UTC</td>\n",
       "      <td>UTCTimeZone</td>\n",
       "      <td>Time</td>\n",
       "      <td>Avg IL1 (A)</td>\n",
       "      <td>Avg IL2 (A)</td>\n",
       "      <td>Avg IL3 (A)</td>\n",
       "      <td>Avg INe (A)</td>\n",
       "      <td>Avg Phase-to-phase voltages U12 (V)</td>\n",
       "      <td>Avg Phase-to-phase voltages U23 (V)</td>\n",
       "      <td>Avg Phase-to-phase voltages U31 (V)</td>\n",
       "      <td>...</td>\n",
       "      <td>Avg OutV1 (V)</td>\n",
       "      <td>Max OutV1 (V)</td>\n",
       "      <td>Min OutV1 (V)</td>\n",
       "      <td>Avg OutV2 (V)</td>\n",
       "      <td>Max OutV2 (V)</td>\n",
       "      <td>Min OutV2 (V)</td>\n",
       "      <td>Avg OutV3 (V)</td>\n",
       "      <td>Max OutV3 (V)</td>\n",
       "      <td>Min OutV3 (V)</td>\n",
       "      <td>Quality</td>\n",
       "    </tr>\n",
       "    <tr>\n",
       "      <th>1</th>\n",
       "      <td>4/30/2021 10:14:40 PM +00:00</td>\n",
       "      <td>5/1/2021 12:14:40 AM +02:00</td>\n",
       "      <td>00:15</td>\n",
       "      <td>57</td>\n",
       "      <td>50</td>\n",
       "      <td>50</td>\n",
       "      <td>0</td>\n",
       "      <td>402</td>\n",
       "      <td>401</td>\n",
       "      <td>399</td>\n",
       "      <td>...</td>\n",
       "      <td>0</td>\n",
       "      <td>0</td>\n",
       "      <td>0</td>\n",
       "      <td>0</td>\n",
       "      <td>0</td>\n",
       "      <td>0</td>\n",
       "      <td>0</td>\n",
       "      <td>0</td>\n",
       "      <td>0</td>\n",
       "      <td>High</td>\n",
       "    </tr>\n",
       "    <tr>\n",
       "      <th>2</th>\n",
       "      <td>4/30/2021 10:29:40 PM +00:00</td>\n",
       "      <td>5/1/2021 12:29:40 AM +02:00</td>\n",
       "      <td>00:30</td>\n",
       "      <td>57</td>\n",
       "      <td>49</td>\n",
       "      <td>48</td>\n",
       "      <td>0</td>\n",
       "      <td>398</td>\n",
       "      <td>397</td>\n",
       "      <td>396</td>\n",
       "      <td>...</td>\n",
       "      <td>0</td>\n",
       "      <td>0</td>\n",
       "      <td>0</td>\n",
       "      <td>0</td>\n",
       "      <td>0</td>\n",
       "      <td>0</td>\n",
       "      <td>0</td>\n",
       "      <td>0</td>\n",
       "      <td>0</td>\n",
       "      <td>High</td>\n",
       "    </tr>\n",
       "    <tr>\n",
       "      <th>3</th>\n",
       "      <td>4/30/2021 10:44:40 PM +00:00</td>\n",
       "      <td>5/1/2021 12:44:40 AM +02:00</td>\n",
       "      <td>00:45</td>\n",
       "      <td>59</td>\n",
       "      <td>50</td>\n",
       "      <td>51</td>\n",
       "      <td>0</td>\n",
       "      <td>397</td>\n",
       "      <td>396</td>\n",
       "      <td>395</td>\n",
       "      <td>...</td>\n",
       "      <td>0</td>\n",
       "      <td>0</td>\n",
       "      <td>0</td>\n",
       "      <td>0</td>\n",
       "      <td>0</td>\n",
       "      <td>0</td>\n",
       "      <td>0</td>\n",
       "      <td>0</td>\n",
       "      <td>0</td>\n",
       "      <td>High</td>\n",
       "    </tr>\n",
       "    <tr>\n",
       "      <th>4</th>\n",
       "      <td>4/30/2021 10:59:40 PM +00:00</td>\n",
       "      <td>5/1/2021 12:59:40 AM +02:00</td>\n",
       "      <td>01:00</td>\n",
       "      <td>58</td>\n",
       "      <td>51</td>\n",
       "      <td>50</td>\n",
       "      <td>0</td>\n",
       "      <td>397</td>\n",
       "      <td>396</td>\n",
       "      <td>395</td>\n",
       "      <td>...</td>\n",
       "      <td>0</td>\n",
       "      <td>0</td>\n",
       "      <td>0</td>\n",
       "      <td>0</td>\n",
       "      <td>0</td>\n",
       "      <td>0</td>\n",
       "      <td>0</td>\n",
       "      <td>0</td>\n",
       "      <td>0</td>\n",
       "      <td>High</td>\n",
       "    </tr>\n",
       "  </tbody>\n",
       "</table>\n",
       "<p>5 rows × 107 columns</p>\n",
       "</div>"
      ],
      "text/plain": [
       "                     Unnamed: 0                   Unnamed: 1 Unnamed: 2  \\\n",
       "0                          UTC                  UTCTimeZone       Time    \n",
       "1  4/30/2021 10:14:40 PM +00:00  5/1/2021 12:14:40 AM +02:00      00:15   \n",
       "2  4/30/2021 10:29:40 PM +00:00  5/1/2021 12:29:40 AM +02:00      00:30   \n",
       "3  4/30/2021 10:44:40 PM +00:00  5/1/2021 12:44:40 AM +02:00      00:45   \n",
       "4  4/30/2021 10:59:40 PM +00:00  5/1/2021 12:59:40 AM +02:00      01:00   \n",
       "\n",
       "             A          A.1          A.2          A.3  \\\n",
       "0  Avg IL1 (A)  Avg IL2 (A)  Avg IL3 (A)  Avg INe (A)   \n",
       "1           57           50           50            0   \n",
       "2           57           49           48            0   \n",
       "3           59           50           51            0   \n",
       "4           58           51           50            0   \n",
       "\n",
       "                                     V                                  V.1  \\\n",
       "0  Avg Phase-to-phase voltages U12 (V)  Avg Phase-to-phase voltages U23 (V)   \n",
       "1                                  402                                  401   \n",
       "2                                  398                                  397   \n",
       "3                                  397                                  396   \n",
       "4                                  397                                  396   \n",
       "\n",
       "                                   V.2  ...           V.18           V.19  \\\n",
       "0  Avg Phase-to-phase voltages U31 (V)  ...  Avg OutV1 (V)  Max OutV1 (V)   \n",
       "1                                  399  ...              0              0   \n",
       "2                                  396  ...              0              0   \n",
       "3                                  395  ...              0              0   \n",
       "4                                  395  ...              0              0   \n",
       "\n",
       "            V.20           V.21           V.22           V.23           V.24  \\\n",
       "0  Min OutV1 (V)  Avg OutV2 (V)  Max OutV2 (V)  Min OutV2 (V)  Avg OutV3 (V)   \n",
       "1              0              0              0              0              0   \n",
       "2              0              0              0              0              0   \n",
       "3              0              0              0              0              0   \n",
       "4              0              0              0              0              0   \n",
       "\n",
       "            V.25           V.26 Unnamed: 106  \n",
       "0  Max OutV3 (V)  Min OutV3 (V)     Quality   \n",
       "1              0              0         High  \n",
       "2              0              0         High  \n",
       "3              0              0         High  \n",
       "4              0              0         High  \n",
       "\n",
       "[5 rows x 107 columns]"
      ]
     },
     "execution_count": 57,
     "metadata": {},
     "output_type": "execute_result"
    }
   ],
   "source": [
    "df.head()"
   ]
  },
  {
   "cell_type": "code",
   "execution_count": 58,
   "id": "38d0048b-277d-4456-b771-1a08112d080c",
   "metadata": {},
   "outputs": [
    {
     "data": {
      "text/plain": [
       "Unnamed: 0      0\n",
       "Unnamed: 1      0\n",
       "Unnamed: 2      0\n",
       "A               0\n",
       "A.1             0\n",
       "               ..\n",
       "V.23            0\n",
       "V.24            0\n",
       "V.25            0\n",
       "V.26            0\n",
       "Unnamed: 106    0\n",
       "Length: 107, dtype: int64"
      ]
     },
     "execution_count": 58,
     "metadata": {},
     "output_type": "execute_result"
    }
   ],
   "source": [
    "df.isna().sum()"
   ]
  },
  {
   "cell_type": "markdown",
   "id": "0ab00534-3ff2-41c1-bb3d-ed1a987b4319",
   "metadata": {},
   "source": [
    "## Data Preprocessing"
   ]
  },
  {
   "cell_type": "markdown",
   "id": "ec8f669f-8647-4588-ab6c-3bcb2846a11a",
   "metadata": {},
   "source": [
    "### Renaming Columns and Dropping Header Row"
   ]
  },
  {
   "cell_type": "code",
   "execution_count": 59,
   "id": "45195c67-1ea0-45fa-9acc-6c9dafe971ba",
   "metadata": {},
   "outputs": [],
   "source": [
    "df.columns = df.iloc[0]"
   ]
  },
  {
   "cell_type": "code",
   "execution_count": 60,
   "id": "55a4a988-8aa4-4a11-8f44-9330f268358d",
   "metadata": {},
   "outputs": [],
   "source": [
    "df = df.drop(0).reset_index(drop=True)"
   ]
  },
  {
   "cell_type": "code",
   "execution_count": 67,
   "id": "c6a8d5a4-5d35-444a-b443-77a8bf4a725e",
   "metadata": {},
   "outputs": [
    {
     "name": "stdout",
     "output_type": "stream",
     "text": [
      "Index(['UTC ', 'UTCTimeZone ', 'Time ', 'Avg IL1 (A)', 'Avg IL2 (A)',\n",
      "       'Avg IL3 (A)', 'Avg INe (A)', 'Avg Phase-to-phase voltages U12 (V)',\n",
      "       'Avg Phase-to-phase voltages U23 (V)',\n",
      "       'Avg Phase-to-phase voltages U31 (V)',\n",
      "       ...\n",
      "       'Avg OutV1 (V)', 'Max OutV1 (V)', 'Min OutV1 (V)', 'Avg OutV2 (V)',\n",
      "       'Max OutV2 (V)', 'Min OutV2 (V)', 'Avg OutV3 (V)', 'Max OutV3 (V)',\n",
      "       'Min OutV3 (V)', 'Quality '],\n",
      "      dtype='object', name=0, length=107)\n"
     ]
    }
   ],
   "source": [
    "print(df.columns)"
   ]
  },
  {
   "cell_type": "code",
   "execution_count": 68,
   "id": "38de84bf-b2a3-471d-b4d4-63ec6b6f8e5e",
   "metadata": {},
   "outputs": [],
   "source": [
    "df = df.loc[:, ['Avg IL1 (A)', 'Avg IL2 (A)', 'Avg IL3 (A)', \n",
    "                 'Avg Phase-to-phase voltages U12 (V)', \n",
    "                 'Avg Phase-to-phase voltages U23 (V)', \n",
    "                 'Avg Phase-to-phase voltages U31 (V)', \n",
    "                 'Avg Total active power (kW)', \n",
    "                 'Avg Total apparent power (kVA)', \n",
    "                 'Avg Total reactive power (kVAR)', \n",
    "                 'Total active energy (kWh)']]\n"
   ]
  },
  {
   "cell_type": "code",
   "execution_count": 69,
   "id": "c1d64b77-e43b-4e67-a1b7-769001449931",
   "metadata": {},
   "outputs": [
    {
     "data": {
      "text/plain": [
       "Index(['Avg IL1 (A)', 'Avg IL2 (A)', 'Avg IL3 (A)',\n",
       "       'Avg Phase-to-phase voltages U12 (V)',\n",
       "       'Avg Phase-to-phase voltages U23 (V)',\n",
       "       'Avg Phase-to-phase voltages U31 (V)', 'Avg Total active power (kW)',\n",
       "       'Avg Total apparent power (kVA)', 'Avg Total reactive power (kVAR)',\n",
       "       'Total active energy (kWh)'],\n",
       "      dtype='object', name=0)"
      ]
     },
     "execution_count": 69,
     "metadata": {},
     "output_type": "execute_result"
    }
   ],
   "source": [
    "df.columns"
   ]
  },
  {
   "cell_type": "code",
   "execution_count": 70,
   "id": "a91de588-b651-4c81-ab4b-a47115d851e6",
   "metadata": {},
   "outputs": [
    {
     "data": {
      "text/html": [
       "<div>\n",
       "<style scoped>\n",
       "    .dataframe tbody tr th:only-of-type {\n",
       "        vertical-align: middle;\n",
       "    }\n",
       "\n",
       "    .dataframe tbody tr th {\n",
       "        vertical-align: top;\n",
       "    }\n",
       "\n",
       "    .dataframe thead th {\n",
       "        text-align: right;\n",
       "    }\n",
       "</style>\n",
       "<table border=\"1\" class=\"dataframe\">\n",
       "  <thead>\n",
       "    <tr style=\"text-align: right;\">\n",
       "      <th></th>\n",
       "      <th>Avg IL1 (A)</th>\n",
       "      <th>Avg IL2 (A)</th>\n",
       "      <th>Avg IL3 (A)</th>\n",
       "      <th>Avg Phase-to-phase voltages U12 (V)</th>\n",
       "      <th>Avg Phase-to-phase voltages U23 (V)</th>\n",
       "      <th>Avg Phase-to-phase voltages U31 (V)</th>\n",
       "      <th>Avg Total active power (kW)</th>\n",
       "      <th>Avg Total apparent power (kVA)</th>\n",
       "      <th>Avg Total reactive power (kVAR)</th>\n",
       "      <th>Total active energy (kWh)</th>\n",
       "    </tr>\n",
       "  </thead>\n",
       "  <tbody>\n",
       "    <tr>\n",
       "      <th>0</th>\n",
       "      <td>57</td>\n",
       "      <td>50</td>\n",
       "      <td>50</td>\n",
       "      <td>402</td>\n",
       "      <td>401</td>\n",
       "      <td>399</td>\n",
       "      <td>35</td>\n",
       "      <td>36</td>\n",
       "      <td>-7</td>\n",
       "      <td>8</td>\n",
       "    </tr>\n",
       "    <tr>\n",
       "      <th>1</th>\n",
       "      <td>57</td>\n",
       "      <td>49</td>\n",
       "      <td>48</td>\n",
       "      <td>398</td>\n",
       "      <td>397</td>\n",
       "      <td>396</td>\n",
       "      <td>34</td>\n",
       "      <td>35</td>\n",
       "      <td>-6</td>\n",
       "      <td>9</td>\n",
       "    </tr>\n",
       "    <tr>\n",
       "      <th>2</th>\n",
       "      <td>59</td>\n",
       "      <td>50</td>\n",
       "      <td>51</td>\n",
       "      <td>397</td>\n",
       "      <td>396</td>\n",
       "      <td>395</td>\n",
       "      <td>35</td>\n",
       "      <td>35</td>\n",
       "      <td>-5</td>\n",
       "      <td>9</td>\n",
       "    </tr>\n",
       "    <tr>\n",
       "      <th>3</th>\n",
       "      <td>58</td>\n",
       "      <td>51</td>\n",
       "      <td>50</td>\n",
       "      <td>397</td>\n",
       "      <td>396</td>\n",
       "      <td>395</td>\n",
       "      <td>35</td>\n",
       "      <td>36</td>\n",
       "      <td>-7</td>\n",
       "      <td>8</td>\n",
       "    </tr>\n",
       "    <tr>\n",
       "      <th>4</th>\n",
       "      <td>57</td>\n",
       "      <td>49</td>\n",
       "      <td>50</td>\n",
       "      <td>398</td>\n",
       "      <td>397</td>\n",
       "      <td>396</td>\n",
       "      <td>34</td>\n",
       "      <td>35</td>\n",
       "      <td>-7</td>\n",
       "      <td>9</td>\n",
       "    </tr>\n",
       "  </tbody>\n",
       "</table>\n",
       "</div>"
      ],
      "text/plain": [
       "0 Avg IL1 (A) Avg IL2 (A) Avg IL3 (A) Avg Phase-to-phase voltages U12 (V)  \\\n",
       "0          57          50          50                                 402   \n",
       "1          57          49          48                                 398   \n",
       "2          59          50          51                                 397   \n",
       "3          58          51          50                                 397   \n",
       "4          57          49          50                                 398   \n",
       "\n",
       "0 Avg Phase-to-phase voltages U23 (V) Avg Phase-to-phase voltages U31 (V)  \\\n",
       "0                                 401                                 399   \n",
       "1                                 397                                 396   \n",
       "2                                 396                                 395   \n",
       "3                                 396                                 395   \n",
       "4                                 397                                 396   \n",
       "\n",
       "0 Avg Total active power (kW) Avg Total apparent power (kVA)  \\\n",
       "0                          35                             36   \n",
       "1                          34                             35   \n",
       "2                          35                             35   \n",
       "3                          35                             36   \n",
       "4                          34                             35   \n",
       "\n",
       "0 Avg Total reactive power (kVAR) Total active energy (kWh)  \n",
       "0                              -7                         8  \n",
       "1                              -6                         9  \n",
       "2                              -5                         9  \n",
       "3                              -7                         8  \n",
       "4                              -7                         9  "
      ]
     },
     "execution_count": 70,
     "metadata": {},
     "output_type": "execute_result"
    }
   ],
   "source": [
    "df.head()"
   ]
  },
  {
   "cell_type": "markdown",
   "id": "da527406-18bd-44ee-8b4e-e7063cd7f4ad",
   "metadata": {},
   "source": [
    "### Handling Missing Values and Cleaning"
   ]
  },
  {
   "cell_type": "code",
   "execution_count": 71,
   "id": "5676cb11-a2b5-430f-aae1-553b16d7b2aa",
   "metadata": {},
   "outputs": [],
   "source": [
    "df = df.apply(pd.to_numeric, errors='coerce')\n",
    "df = df.dropna(subset=['Total active energy (kWh)']).reset_index(drop=True)\n",
    "df = df.dropna(axis=1, how='all')"
   ]
  },
  {
   "cell_type": "code",
   "execution_count": 72,
   "id": "9c1cb2f2-c11d-4264-8cc1-2e10d4da5f6c",
   "metadata": {},
   "outputs": [
    {
     "data": {
      "text/html": [
       "<div>\n",
       "<style scoped>\n",
       "    .dataframe tbody tr th:only-of-type {\n",
       "        vertical-align: middle;\n",
       "    }\n",
       "\n",
       "    .dataframe tbody tr th {\n",
       "        vertical-align: top;\n",
       "    }\n",
       "\n",
       "    .dataframe thead th {\n",
       "        text-align: right;\n",
       "    }\n",
       "</style>\n",
       "<table border=\"1\" class=\"dataframe\">\n",
       "  <thead>\n",
       "    <tr style=\"text-align: right;\">\n",
       "      <th></th>\n",
       "      <th>Avg IL1 (A)</th>\n",
       "      <th>Avg IL2 (A)</th>\n",
       "      <th>Avg IL3 (A)</th>\n",
       "      <th>Avg Phase-to-phase voltages U12 (V)</th>\n",
       "      <th>Avg Phase-to-phase voltages U23 (V)</th>\n",
       "      <th>Avg Phase-to-phase voltages U31 (V)</th>\n",
       "      <th>Avg Total active power (kW)</th>\n",
       "      <th>Avg Total apparent power (kVA)</th>\n",
       "      <th>Avg Total reactive power (kVAR)</th>\n",
       "      <th>Total active energy (kWh)</th>\n",
       "    </tr>\n",
       "  </thead>\n",
       "  <tbody>\n",
       "    <tr>\n",
       "      <th>0</th>\n",
       "      <td>57</td>\n",
       "      <td>50</td>\n",
       "      <td>50</td>\n",
       "      <td>402</td>\n",
       "      <td>401</td>\n",
       "      <td>399</td>\n",
       "      <td>35</td>\n",
       "      <td>36</td>\n",
       "      <td>-7</td>\n",
       "      <td>8.0</td>\n",
       "    </tr>\n",
       "    <tr>\n",
       "      <th>1</th>\n",
       "      <td>57</td>\n",
       "      <td>49</td>\n",
       "      <td>48</td>\n",
       "      <td>398</td>\n",
       "      <td>397</td>\n",
       "      <td>396</td>\n",
       "      <td>34</td>\n",
       "      <td>35</td>\n",
       "      <td>-6</td>\n",
       "      <td>9.0</td>\n",
       "    </tr>\n",
       "    <tr>\n",
       "      <th>2</th>\n",
       "      <td>59</td>\n",
       "      <td>50</td>\n",
       "      <td>51</td>\n",
       "      <td>397</td>\n",
       "      <td>396</td>\n",
       "      <td>395</td>\n",
       "      <td>35</td>\n",
       "      <td>35</td>\n",
       "      <td>-5</td>\n",
       "      <td>9.0</td>\n",
       "    </tr>\n",
       "    <tr>\n",
       "      <th>3</th>\n",
       "      <td>58</td>\n",
       "      <td>51</td>\n",
       "      <td>50</td>\n",
       "      <td>397</td>\n",
       "      <td>396</td>\n",
       "      <td>395</td>\n",
       "      <td>35</td>\n",
       "      <td>36</td>\n",
       "      <td>-7</td>\n",
       "      <td>8.0</td>\n",
       "    </tr>\n",
       "    <tr>\n",
       "      <th>4</th>\n",
       "      <td>57</td>\n",
       "      <td>49</td>\n",
       "      <td>50</td>\n",
       "      <td>398</td>\n",
       "      <td>397</td>\n",
       "      <td>396</td>\n",
       "      <td>34</td>\n",
       "      <td>35</td>\n",
       "      <td>-7</td>\n",
       "      <td>9.0</td>\n",
       "    </tr>\n",
       "  </tbody>\n",
       "</table>\n",
       "</div>"
      ],
      "text/plain": [
       "0  Avg IL1 (A)  Avg IL2 (A)  Avg IL3 (A)  Avg Phase-to-phase voltages U12 (V)  \\\n",
       "0           57           50           50                                  402   \n",
       "1           57           49           48                                  398   \n",
       "2           59           50           51                                  397   \n",
       "3           58           51           50                                  397   \n",
       "4           57           49           50                                  398   \n",
       "\n",
       "0  Avg Phase-to-phase voltages U23 (V)  Avg Phase-to-phase voltages U31 (V)  \\\n",
       "0                                  401                                  399   \n",
       "1                                  397                                  396   \n",
       "2                                  396                                  395   \n",
       "3                                  396                                  395   \n",
       "4                                  397                                  396   \n",
       "\n",
       "0  Avg Total active power (kW)  Avg Total apparent power (kVA)  \\\n",
       "0                           35                              36   \n",
       "1                           34                              35   \n",
       "2                           35                              35   \n",
       "3                           35                              36   \n",
       "4                           34                              35   \n",
       "\n",
       "0  Avg Total reactive power (kVAR)  Total active energy (kWh)  \n",
       "0                               -7                        8.0  \n",
       "1                               -6                        9.0  \n",
       "2                               -5                        9.0  \n",
       "3                               -7                        8.0  \n",
       "4                               -7                        9.0  "
      ]
     },
     "execution_count": 72,
     "metadata": {},
     "output_type": "execute_result"
    }
   ],
   "source": [
    "df.head()"
   ]
  },
  {
   "cell_type": "markdown",
   "id": "d51ab19a-68f3-4e78-ac23-917f66235471",
   "metadata": {},
   "source": [
    "### Feature-Target Separation"
   ]
  },
  {
   "cell_type": "code",
   "execution_count": 73,
   "id": "09b761c6-46db-496d-bec2-c07d0e4e2e0b",
   "metadata": {},
   "outputs": [],
   "source": [
    "target_column = 'Total active energy (kWh)'\n",
    "X = df.drop(columns=[target_column])\n",
    "y = df[target_column]"
   ]
  },
  {
   "cell_type": "code",
   "execution_count": 74,
   "id": "e1064e5f-e89d-4c0c-84c9-fa71dcd204fc",
   "metadata": {},
   "outputs": [
    {
     "name": "stdout",
     "output_type": "stream",
     "text": [
      "(8480, 9)\n"
     ]
    },
    {
     "data": {
      "text/html": [
       "<div>\n",
       "<style scoped>\n",
       "    .dataframe tbody tr th:only-of-type {\n",
       "        vertical-align: middle;\n",
       "    }\n",
       "\n",
       "    .dataframe tbody tr th {\n",
       "        vertical-align: top;\n",
       "    }\n",
       "\n",
       "    .dataframe thead th {\n",
       "        text-align: right;\n",
       "    }\n",
       "</style>\n",
       "<table border=\"1\" class=\"dataframe\">\n",
       "  <thead>\n",
       "    <tr style=\"text-align: right;\">\n",
       "      <th></th>\n",
       "      <th>Avg IL1 (A)</th>\n",
       "      <th>Avg IL2 (A)</th>\n",
       "      <th>Avg IL3 (A)</th>\n",
       "      <th>Avg Phase-to-phase voltages U12 (V)</th>\n",
       "      <th>Avg Phase-to-phase voltages U23 (V)</th>\n",
       "      <th>Avg Phase-to-phase voltages U31 (V)</th>\n",
       "      <th>Avg Total active power (kW)</th>\n",
       "      <th>Avg Total apparent power (kVA)</th>\n",
       "      <th>Avg Total reactive power (kVAR)</th>\n",
       "    </tr>\n",
       "  </thead>\n",
       "  <tbody>\n",
       "    <tr>\n",
       "      <th>0</th>\n",
       "      <td>57</td>\n",
       "      <td>50</td>\n",
       "      <td>50</td>\n",
       "      <td>402</td>\n",
       "      <td>401</td>\n",
       "      <td>399</td>\n",
       "      <td>35</td>\n",
       "      <td>36</td>\n",
       "      <td>-7</td>\n",
       "    </tr>\n",
       "    <tr>\n",
       "      <th>1</th>\n",
       "      <td>57</td>\n",
       "      <td>49</td>\n",
       "      <td>48</td>\n",
       "      <td>398</td>\n",
       "      <td>397</td>\n",
       "      <td>396</td>\n",
       "      <td>34</td>\n",
       "      <td>35</td>\n",
       "      <td>-6</td>\n",
       "    </tr>\n",
       "    <tr>\n",
       "      <th>2</th>\n",
       "      <td>59</td>\n",
       "      <td>50</td>\n",
       "      <td>51</td>\n",
       "      <td>397</td>\n",
       "      <td>396</td>\n",
       "      <td>395</td>\n",
       "      <td>35</td>\n",
       "      <td>35</td>\n",
       "      <td>-5</td>\n",
       "    </tr>\n",
       "    <tr>\n",
       "      <th>3</th>\n",
       "      <td>58</td>\n",
       "      <td>51</td>\n",
       "      <td>50</td>\n",
       "      <td>397</td>\n",
       "      <td>396</td>\n",
       "      <td>395</td>\n",
       "      <td>35</td>\n",
       "      <td>36</td>\n",
       "      <td>-7</td>\n",
       "    </tr>\n",
       "    <tr>\n",
       "      <th>4</th>\n",
       "      <td>57</td>\n",
       "      <td>49</td>\n",
       "      <td>50</td>\n",
       "      <td>398</td>\n",
       "      <td>397</td>\n",
       "      <td>396</td>\n",
       "      <td>34</td>\n",
       "      <td>35</td>\n",
       "      <td>-7</td>\n",
       "    </tr>\n",
       "  </tbody>\n",
       "</table>\n",
       "</div>"
      ],
      "text/plain": [
       "0  Avg IL1 (A)  Avg IL2 (A)  Avg IL3 (A)  Avg Phase-to-phase voltages U12 (V)  \\\n",
       "0           57           50           50                                  402   \n",
       "1           57           49           48                                  398   \n",
       "2           59           50           51                                  397   \n",
       "3           58           51           50                                  397   \n",
       "4           57           49           50                                  398   \n",
       "\n",
       "0  Avg Phase-to-phase voltages U23 (V)  Avg Phase-to-phase voltages U31 (V)  \\\n",
       "0                                  401                                  399   \n",
       "1                                  397                                  396   \n",
       "2                                  396                                  395   \n",
       "3                                  396                                  395   \n",
       "4                                  397                                  396   \n",
       "\n",
       "0  Avg Total active power (kW)  Avg Total apparent power (kVA)  \\\n",
       "0                           35                              36   \n",
       "1                           34                              35   \n",
       "2                           35                              35   \n",
       "3                           35                              36   \n",
       "4                           34                              35   \n",
       "\n",
       "0  Avg Total reactive power (kVAR)  \n",
       "0                               -7  \n",
       "1                               -6  \n",
       "2                               -5  \n",
       "3                               -7  \n",
       "4                               -7  "
      ]
     },
     "execution_count": 74,
     "metadata": {},
     "output_type": "execute_result"
    }
   ],
   "source": [
    "print(X.shape)\n",
    "X.head()"
   ]
  },
  {
   "cell_type": "code",
   "execution_count": 75,
   "id": "627152e7-1744-40e7-b596-49bbebd8d781",
   "metadata": {},
   "outputs": [
    {
     "name": "stdout",
     "output_type": "stream",
     "text": [
      "(8480,)\n"
     ]
    },
    {
     "data": {
      "text/plain": [
       "0    8.0\n",
       "1    9.0\n",
       "2    9.0\n",
       "3    8.0\n",
       "4    9.0\n",
       "Name: Total active energy (kWh), dtype: float64"
      ]
     },
     "execution_count": 75,
     "metadata": {},
     "output_type": "execute_result"
    }
   ],
   "source": [
    "print(y.shape)\n",
    "y.head()"
   ]
  },
  {
   "cell_type": "markdown",
   "id": "6b516d9e-328b-4a34-8189-43817469017e",
   "metadata": {},
   "source": [
    "### Train-Test Split"
   ]
  },
  {
   "cell_type": "code",
   "execution_count": 76,
   "id": "9f9726bd-380b-419f-9829-84435278676b",
   "metadata": {},
   "outputs": [],
   "source": [
    "X_train, X_test, y_train, y_test = train_test_split(X, y, test_size=0.2, random_state=42)"
   ]
  },
  {
   "cell_type": "code",
   "execution_count": 77,
   "id": "52a1ff5f-a6ca-4bac-8c23-6bfabdb74b39",
   "metadata": {},
   "outputs": [
    {
     "name": "stdout",
     "output_type": "stream",
     "text": [
      "(6784, 9)\n",
      "(1696, 9)\n",
      "(6784,)\n",
      "(1696,)\n"
     ]
    }
   ],
   "source": [
    "print(X_train.shape)\n",
    "print(X_test.shape)\n",
    "print(y_train.shape)\n",
    "print(y_test.shape)"
   ]
  },
  {
   "cell_type": "markdown",
   "id": "9ddc943d-a968-4fe9-a0b8-660a5c860883",
   "metadata": {},
   "source": [
    "### Feature Scaling"
   ]
  },
  {
   "cell_type": "code",
   "execution_count": 78,
   "id": "a89337b0-d2ea-4316-82ae-29dceba071d3",
   "metadata": {},
   "outputs": [],
   "source": [
    "scaler = StandardScaler()\n",
    "X_train_scaled = scaler.fit_transform(X_train)\n",
    "X_test_scaled = scaler.transform(X_test)"
   ]
  },
  {
   "cell_type": "code",
   "execution_count": null,
   "id": "7672ed8a-499b-4d6d-a81b-de65413dd283",
   "metadata": {},
   "outputs": [],
   "source": [
    "imputer = SimpleImputer(strategy='mean')\n",
    "X_train_scaled_cleaned = imputer.fit_transform(X_train_scaled)\n",
    "X_test_scaled_cleaned = imputer.fit_transform(X_test_scaled)"
   ]
  },
  {
   "cell_type": "code",
   "execution_count": 80,
   "id": "e17020a6-06fe-4314-a99d-f270c554ce82",
   "metadata": {},
   "outputs": [
    {
     "name": "stdout",
     "output_type": "stream",
     "text": [
      "NaN in X_train_scaled_cleaned: False\n"
     ]
    }
   ],
   "source": [
    "nan_present_train = np.isnan(X_train_scaled_cleaned).any()\n",
    "print(\"NaN in X_train_scaled_cleaned:\", nan_present_train)"
   ]
  },
  {
   "cell_type": "code",
   "execution_count": 81,
   "id": "09ab5fac-1b29-4d96-8fed-ad0e2df34f21",
   "metadata": {},
   "outputs": [
    {
     "name": "stdout",
     "output_type": "stream",
     "text": [
      "NaN in X_test_scaled_cleaned: False\n"
     ]
    }
   ],
   "source": [
    "nan_present_test = np.isnan(X_test_scaled_cleaned).any()\n",
    "print(\"NaN in X_test_scaled_cleaned:\", nan_present_test)"
   ]
  },
  {
   "cell_type": "markdown",
   "id": "8bcfa2fd-57a3-455f-862c-c38542a60b83",
   "metadata": {},
   "source": [
    "## Model Evalution"
   ]
  },
  {
   "cell_type": "markdown",
   "id": "2389e1ed-f48e-4414-8b44-cb32c17c9484",
   "metadata": {},
   "source": [
    "### Model Evaluation Function"
   ]
  },
  {
   "cell_type": "code",
   "execution_count": 82,
   "id": "ba3f4f6a-6bf5-45f7-a12b-c0e1441aa4a3",
   "metadata": {},
   "outputs": [],
   "source": [
    "def evaluate_model(y_true, y_pred):\n",
    "    mse = mean_squared_error(y_true, y_pred)\n",
    "    r2 = r2_score(y_true, y_pred)\n",
    "    print(f\"MSE: {mse}, R2: {r2}\")"
   ]
  },
  {
   "cell_type": "markdown",
   "id": "7d88c4e8-939b-40a7-aa27-af02f0f5fe8e",
   "metadata": {},
   "source": [
    "### CNN Model"
   ]
  },
  {
   "cell_type": "code",
   "execution_count": 83,
   "id": "f8ce1315-1224-432b-bb9d-723f95e00c88",
   "metadata": {},
   "outputs": [],
   "source": [
    "X_train_cnn = X_train_scaled_cleaned.reshape(X_train_scaled_cleaned.shape[0], X_train_scaled_cleaned.shape[1], 1)\n",
    "X_test_cnn = X_test_scaled.reshape(X_test_scaled_cleaned.shape[0], X_test_scaled_cleaned.shape[1], 1)"
   ]
  },
  {
   "cell_type": "code",
   "execution_count": 84,
   "id": "f80e4cfe-8c0f-4ad4-b8b4-0d010f48e10a",
   "metadata": {},
   "outputs": [
    {
     "name": "stderr",
     "output_type": "stream",
     "text": [
      "C:\\Users\\ashis\\AppData\\Local\\Programs\\Python\\Python312\\Lib\\site-packages\\keras\\src\\layers\\convolutional\\base_conv.py:107: UserWarning: Do not pass an `input_shape`/`input_dim` argument to a layer. When using Sequential models, prefer using an `Input(shape)` object as the first layer in the model instead.\n",
      "  super().__init__(activity_regularizer=activity_regularizer, **kwargs)\n"
     ]
    }
   ],
   "source": [
    "cnn_model = Sequential([\n",
    "    Conv1D(64, kernel_size=3, activation='relu', input_shape=(X_train_cnn.shape[1], 1)),\n",
    "    Flatten(),\n",
    "    Dense(64, activation='relu'),\n",
    "    Dense(1)\n",
    "])"
   ]
  },
  {
   "cell_type": "code",
   "execution_count": 85,
   "id": "907e671d-5aeb-4294-985f-a23c000db2ca",
   "metadata": {},
   "outputs": [
    {
     "name": "stdout",
     "output_type": "stream",
     "text": [
      "\u001b[1m53/53\u001b[0m \u001b[32m━━━━━━━━━━━━━━━━━━━━\u001b[0m\u001b[37m\u001b[0m \u001b[1m0s\u001b[0m 1ms/step\n",
      "MSE: 0.19403146583126116, R2: 0.9811950519360754\n"
     ]
    }
   ],
   "source": [
    "cnn_model.compile(optimizer='adam', loss='mse')\n",
    "cnn_model.fit(X_train_cnn, y_train, epochs=10, batch_size=32, verbose=0)\n",
    "y_pred_cnn = cnn_model.predict(X_test_cnn).flatten()\n",
    "evaluate_model(y_test, y_pred_cnn)"
   ]
  },
  {
   "cell_type": "markdown",
   "id": "48e9236d-0f11-47f2-bb77-f75eebe027c8",
   "metadata": {},
   "source": [
    "### LSTM Model"
   ]
  },
  {
   "cell_type": "code",
   "execution_count": 86,
   "id": "48ba9c69-3311-4107-8d4d-ce48b8d364b3",
   "metadata": {},
   "outputs": [],
   "source": [
    "X_train_lstm = X_train_scaled_cleaned.reshape(X_train_scaled_cleaned.shape[0], X_train_scaled_cleaned.shape[1], 1)\n",
    "X_test_lstm = X_test_scaled_cleaned.reshape(X_test_scaled_cleaned.shape[0], X_test_scaled_cleaned.shape[1], 1)"
   ]
  },
  {
   "cell_type": "code",
   "execution_count": 87,
   "id": "2a846d2e-4c80-4b6a-be8b-d8694c16a583",
   "metadata": {},
   "outputs": [
    {
     "name": "stderr",
     "output_type": "stream",
     "text": [
      "C:\\Users\\ashis\\AppData\\Local\\Programs\\Python\\Python312\\Lib\\site-packages\\keras\\src\\layers\\rnn\\rnn.py:204: UserWarning: Do not pass an `input_shape`/`input_dim` argument to a layer. When using Sequential models, prefer using an `Input(shape)` object as the first layer in the model instead.\n",
      "  super().__init__(**kwargs)\n"
     ]
    }
   ],
   "source": [
    "lstm_model = Sequential([\n",
    "    LSTM(50, activation='relu', input_shape=(X_train_lstm.shape[1], 1)),\n",
    "    Dense(1)\n",
    "])"
   ]
  },
  {
   "cell_type": "code",
   "execution_count": 89,
   "id": "e1d3a816-09ec-47a9-ab07-4c218cfdecfd",
   "metadata": {},
   "outputs": [
    {
     "name": "stdout",
     "output_type": "stream",
     "text": [
      "\u001b[1m53/53\u001b[0m \u001b[32m━━━━━━━━━━━━━━━━━━━━\u001b[0m\u001b[37m\u001b[0m \u001b[1m0s\u001b[0m 2ms/step\n",
      "MSE: 0.22298816873035857, R2: 0.9783886550880839\n"
     ]
    }
   ],
   "source": [
    "lstm_model.compile(optimizer='adam', loss='mse')\n",
    "lstm_model.fit(X_train_lstm, y_train, epochs=10, batch_size=32, verbose=0)\n",
    "y_pred_lstm = lstm_model.predict(X_test_lstm).flatten()\n",
    "evaluate_model(y_test, y_pred_lstm)"
   ]
  },
  {
   "cell_type": "markdown",
   "id": "dc79a8cf-4a73-4ff9-8c48-81a8faee20a7",
   "metadata": {},
   "source": [
    "### AdaBoost Model"
   ]
  },
  {
   "cell_type": "code",
   "execution_count": 90,
   "id": "be51be80-fa95-4d87-bb42-6e25436b8567",
   "metadata": {},
   "outputs": [
    {
     "name": "stdout",
     "output_type": "stream",
     "text": [
      "MSE: 0.3717620720621717, R2: 0.9639699343231999\n"
     ]
    }
   ],
   "source": [
    "adaboost_model = AdaBoostRegressor()\n",
    "adaboost_model.fit(X_train_scaled_cleaned, y_train)\n",
    "y_pred_adaboost = adaboost_model.predict(X_test_scaled_cleaned)\n",
    "evaluate_model(y_test, y_pred_adaboost)"
   ]
  },
  {
   "cell_type": "markdown",
   "id": "f4f572da-6fd5-4c5e-9a62-17a1a83e4368",
   "metadata": {},
   "source": [
    "## Summary Table\n",
    "\n",
    "| Model        | MSE               | R2-score         |\n",
    "|--------------|-------------------|------------------|\n",
    "| CNN Model    | 0.19403146583126116 | 0.9811950519360754 |\n",
    "| LSTM Model   | 0.22298816873035857 | 0.9783886550880839 |\n",
    "| AdaBoost     | 0.3717620720621717  | 0.9639699343231999 |\n"
   ]
  }
 ],
 "metadata": {
  "kernelspec": {
   "display_name": "Python 3 (ipykernel)",
   "language": "python",
   "name": "python3"
  },
  "language_info": {
   "codemirror_mode": {
    "name": "ipython",
    "version": 3
   },
   "file_extension": ".py",
   "mimetype": "text/x-python",
   "name": "python",
   "nbconvert_exporter": "python",
   "pygments_lexer": "ipython3",
   "version": "3.12.1"
  }
 },
 "nbformat": 4,
 "nbformat_minor": 5
}
